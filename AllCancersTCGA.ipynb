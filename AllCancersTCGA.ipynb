{
 "cells": [
  {
   "cell_type": "markdown",
   "metadata": {},
   "source": [
    "Τίτλος: <b>ΠΟΛΥ-ΟΜΙΚΗ ΑΝΑΛΥΣΗ ΓΕΝΟΜΙΚΩΝ ΔΕΔΟΜΕΝΩΝ ΓΙΑ ΤΗΝ ΚΑΤΗΓΟΡΙΟΠΟΙΗΣΗ ΔΕΙΓΜΑΤΩΝ ΓΛΟΙΟΒΛΑΣΤΩΜΑΤΟΣ</b><br>\n",
    "Ονοματεπώνυμο φοιτητή: Οικονόμου Νικόλαος<br>\n",
    "Αριθμός Μητρώου: ΤΠ4845<br>\n",
    "Επιβλέπων καθηγητής: Τσικνάκης Μανώλης<br>\n",
    "Συν-Επιβλέπων καθηγητής: Κουμάκης Λευτέρης"
   ]
  },
  {
   "cell_type": "markdown",
   "metadata": {},
   "source": [
    "###### Notes\n",
    "1.0 -> DEAD<br>\n",
    "0.0 -> ALIVE\n",
    "<br>\n",
    "Lung,breast allo format sto id(clinical&surv)se sxesi me toys ypololipous"
   ]
  },
  {
   "cell_type": "code",
   "execution_count": null,
   "metadata": {},
   "outputs": [],
   "source": []
  },
  {
   "cell_type": "markdown",
   "metadata": {},
   "source": [
    "Προσθήκη βιβλιοθηκών"
   ]
  },
  {
   "cell_type": "code",
   "execution_count": 1,
   "metadata": {},
   "outputs": [],
   "source": [
    "# Load libraries\n",
    "import numpy as np\n",
    "import pandas as pd\n",
    "\n",
    "from sklearn.tree import DecisionTreeClassifier\n",
    "from sklearn.model_selection import train_test_split\n",
    "from sklearn import metrics\n",
    "from sklearn import tree\n",
    "from sklearn.feature_selection import SelectKBest, f_classif"
   ]
  },
  {
   "cell_type": "code",
   "execution_count": 2,
   "metadata": {},
   "outputs": [],
   "source": [
    "from sklearn.preprocessing import MinMaxScaler\n",
    "\n",
    "from sklearn import svm\n",
    "import matplotlib.pyplot as plt\n",
    "\n",
    "import seaborn as sns\n",
    "\n",
    "from imblearn.over_sampling import SMOTE\n",
    "from collections import Counter\n",
    "\n",
    "from sklearn.metrics import confusion_matrix\n",
    "from sklearn.metrics import plot_confusion_matrix"
   ]
  },
  {
   "cell_type": "code",
   "execution_count": 4,
   "metadata": {},
   "outputs": [],
   "source": [
    "#pd.set_option('display.max_rows', None)\n",
    "#pd.reset_option('display.max_rows')"
   ]
  },
  {
   "cell_type": "markdown",
   "metadata": {},
   "source": [
    "### Function Area"
   ]
  },
  {
   "cell_type": "code",
   "execution_count": 5,
   "metadata": {},
   "outputs": [],
   "source": [
    "def GenomeDataReader(GenesExp,DnaMethylation,miRNA,survivalData,clinicalData):\n",
    "    exp = pd.read_csv(GenesExp, sep=\" \") #geneExpression\n",
    "    methy = pd.read_csv(DnaMethylation, sep=\" \") #DNA Methylation\n",
    "    mirna = pd.read_csv(miRNA, sep=\" \") #miRNA\n",
    "    survival = pd.read_csv(survivalData, sep=\"\\t\") #Survival file\n",
    "    clinical = pd.read_csv(clinicalData, sep=\"\\t\") #clinical file\n",
    "    \n",
    "    return exp,methy,mirna,survival,clinical\n",
    "\n",
    "#Call function\n",
    "#genes,methylation,mirna,surv,clin = GenomeDataReader(\"C:/Users/Nikos Oikonomou/Desktop/CancerDataTCGA/aml/exp\",\"C:/Users/Nikos Oikonomou/Desktop/CancerDataTCGA/aml/methy\",\"C:/Users/Nikos Oikonomou/Desktop/CancerDataTCGA/aml/mirna\",\"C:/Users/Nikos Oikonomou/Desktop/CancerDataTCGA/aml/survival\",\"C:/Users/Nikos Oikonomou/Desktop/CancerDataTCGA/aml/aml\")"
   ]
  },
  {
   "cell_type": "code",
   "execution_count": 6,
   "metadata": {},
   "outputs": [],
   "source": [
    "#Me to surv anti to df paradeigma, allazei to arxiko dataframe kai oxi kapoio antigrafo tou\n",
    "#An thelo na min xalaei to arxiko survival arxeio, prepei anti surv= na bazo to df=\n",
    "#Svinei ola ta duplicates apo to survival arxeio\n",
    "\n",
    "#Epistrefei to SURVIVAL dataframe refactored\n",
    "\n",
    "def survivalData(surv):\n",
    "    \n",
    "    surv = surv[[\"PatientID\",\"Death\"]] #pairno tis stiles PatientID kai Death\n",
    "    \n",
    "    #διαγραφή των duplicates\n",
    "    surv=surv.drop_duplicates(subset=['PatientID'])\n",
    "    \n",
    "    #διαγραφη όλων των NaN τιμών της στήλης\n",
    "    surv = surv[~surv.isnull().any(axis=1)]\n",
    "    surv=surv.reset_index(drop=True) #Κάνει το index να είναι σωστά αριθμημένο απο 0\n",
    "    \n",
    "    #Αντικατάσταση - με .\n",
    "    surv['PatientID'] = surv['PatientID'].str.replace('-','.')\n",
    "    \n",
    "    #ψαχνω αν το id ειναι με μικρά και το αλλ΄αζω\n",
    "    for i in range(len(surv['PatientID'])):\n",
    "        if(surv.loc[i,'PatientID'].islower()): \n",
    "            surv['PatientID'] = surv['PatientID'].str.upper() #το κανει κεφαλαια\n",
    "            surv['PatientID'] = surv['PatientID']+'.01' #προσθ΄ετει το .01\n",
    "        else:\n",
    "            pass\n",
    "     \n",
    "    #επιστρέφει το survival refactored\n",
    "    return surv"
   ]
  },
  {
   "cell_type": "code",
   "execution_count": 7,
   "metadata": {},
   "outputs": [],
   "source": [
    "#στα ομικά σετς αλλάζει τις - με . οπου υπαρχουν\n",
    "def omicDatasetRefactor(genes,methylation,mirna):\n",
    "    genes.columns = genes.columns.str.replace(\"-\", \".\")\n",
    "    methylation.columns = methylation.columns.str.replace(\"-\", \".\")\n",
    "    mirna.columns = mirna.columns.str.replace(\"-\", \".\")\n",
    "    \n",
    "    return genes,methylation,mirna"
   ]
  },
  {
   "cell_type": "code",
   "execution_count": 8,
   "metadata": {},
   "outputs": [],
   "source": [
    "#pairnei kathe dataframe(genes,methylation,mirna,surv) to kanei lista kai virskei metaksi toys, ta koina ids\n",
    "#παίρνει καθε νταταφρειμ (genes,methylation,mirna,surv) το κάνει λίστα και βρίσκει μεταξύ τους τα κοινά ids\n",
    "\n",
    "#Επιστρέφει τη λιστα με τα κοινά ids\n",
    "def findCommonPatients(genes,methylation,mirna,surv):\n",
    "    \n",
    "    colNamesGenes=[]\n",
    "    for i in genes.columns:\n",
    "        colNamesGenes.append(i)\n",
    "\n",
    "    colNamesMethy=[]\n",
    "    for i in methylation.columns:\n",
    "        colNamesMethy.append(i)\n",
    "\n",
    "    colNamesmirna=[]\n",
    "    for i in mirna.columns:\n",
    "        colNamesmirna.append(i)\n",
    "\n",
    "        \n",
    "    survivalIDs=[]\n",
    "    for i in surv['PatientID']:\n",
    "        survivalIDs.append(i)\n",
    "        \n",
    "    elements_in_all = list(set.intersection(*map(set, [colNamesGenes, colNamesMethy, colNamesmirna,survivalIDs])))\n",
    "    elements_in_all.sort()\n",
    "    \n",
    "    \n",
    "    return elements_in_all"
   ]
  },
  {
   "cell_type": "code",
   "execution_count": 9,
   "metadata": {},
   "outputs": [],
   "source": [
    "#βρισκει τους κοινους ασθενείς σε κάθε σετ που υπάρχουν στην λίστα commonPatients\n",
    "def commonPatientsRefactor(dataframe,surv,commonPatients):\n",
    "    \n",
    "    #εδώ βρίσκω τις θέσεις(indexes) που βρίσκονται τα κοινά ids στο αρχείο survival\n",
    "    indexList=[]\n",
    "    for i in range(len(surv)):\n",
    "        if (surv.loc[i,'PatientID'] in commonPatients):\n",
    "            indexList.append(i)\n",
    "\n",
    "    dfT=dataframe.T #κάνω το transposed το εκάστοτε dataset\n",
    "\n",
    "    #βρίσκω τα sampleID(index) των κοινών ασθενών στο εκάστοτε dataset - (το dataset πρέπει να είναι transposed)\n",
    "    #έτσι ώστε να παραχθεί το νέο dataframe\n",
    "    lista=[]\n",
    "    for i in range(len(dfT)):\n",
    "         if (dfT.index[i] in commonPatients):\n",
    "            lista.append(i)\n",
    "\n",
    "    #Ολοκλήρωση του νέου dataframe(προσθήκη του CDE_vital_status) \n",
    "    dataframe = dfT.iloc[lista] #ε΄δώ έχουμε το νέο dataframe χωρίς την κολώνα με το classification\n",
    "    dataframe = dataframe.sort_index(ascending=True) #to sortarei\n",
    "    survivalFinal = surv.iloc[indexList] \n",
    "\n",
    "    #εδώ φτιάχνω το survival dataframe να ειναι μονο με τους κοινους ασθενεις\n",
    "    survivalFinal = survivalFinal.sort_values(by=['PatientID'])\n",
    "    survivalFinal = survivalFinal.reset_index(drop=True)\n",
    "    survivalFinal.index = survivalFinal['PatientID'] #ορίζω το PatientId ως index στο νέο dataframe\n",
    "    survivalFinal = survivalFinal.drop(['PatientID'],axis=1)\n",
    "\n",
    "    #προσθήκη της κολώνας Death στο τέλος του dataframe - εχω το τελικο dataframe\n",
    "    dataframeFinalMorfi = pd.concat([dataframe,survivalFinal['Death']],axis=1)\n",
    "\n",
    "    return dataframeFinalMorfi"
   ]
  },
  {
   "cell_type": "code",
   "execution_count": 10,
   "metadata": {},
   "outputs": [],
   "source": [
    "#Κανει normalize τα δεδομένα\n",
    "def dataNormalization(dataframe):\n",
    "    X_copy = dataframe.iloc[:,:-1].copy() #Αντιγραφή του dataframe ώστε να μη \"χαλάσει\" το αρχικό σε περίπτωση που χρειαστεί να αναφερθούμε σε αυτο\n",
    "    \n",
    "    #Χρήση της συνάρτησης MinMaxScaler()\n",
    "    scaler = MinMaxScaler()\n",
    "    X_columns = dataframe.iloc[:,:-1].columns #επλέγουμε όλες τις κολώνες πλήν της τελευταίας που ειναι οι κλάσεις μας\n",
    "    X_scaled = pd.DataFrame(scaler.fit_transform(X_copy), columns=X_columns) #γίνεται ομαλοποίηση στις τιμές\n",
    "    \n",
    "    #Προστίθεται ξανά η κολώνα με τις κλάσεις μας και έχουμε το τελικό ομαλοποιημένο σύνολο\n",
    "    last_column = dataframe.iloc[: , -1]\n",
    "    X_scaled.index = dataframe.index\n",
    "    X_scaled['Death'] = last_column\n",
    "    \n",
    "    return X_scaled"
   ]
  },
  {
   "cell_type": "code",
   "execution_count": 11,
   "metadata": {},
   "outputs": [],
   "source": [
    "#δινω τα 3 ομικά σετς και τα ενώνει σε ένα ενιαιο (δεν εχει σημασια η σειρα που δίνονται)\n",
    "def concatenation(df1,df2,df3):\n",
    "    dataframe = pd.concat([df1,df2,df3],axis=1) #γίνεται μια \"πρώτη\" συνένωση των GeneExp,DNA Methylation & miRNA\n",
    "    \n",
    "    selected_rows = dataframe[~dataframe.isnull().any(axis=1)] #κρατάμε τις γραμμές χωρίς NaN τιμές\n",
    "    \n",
    "    last_column = selected_rows.iloc[: , -1] #κραταω την τελευταια στηλη με το classification\n",
    "    selected_rows.drop(selected_rows['Death'], axis=1, inplace=True) #την σβηνω\n",
    "    selected_rows['Death']=last_column #την ξαναπροσθέτω\n",
    "    \n",
    "    return selected_rows"
   ]
  },
  {
   "cell_type": "code",
   "execution_count": 12,
   "metadata": {},
   "outputs": [],
   "source": [
    "#Εφαρμογή SVM \n",
    "def svmAlgorithm(X_train, X_test, y_train, y_test):\n",
    "    #X_train, X_test, y_train, y_test = train_test_split(X, y, test_size=0.3, random_state=1) #, random_state=1\n",
    "\n",
    "    #Δημιουργία SVM Classifier\n",
    "    clf = svm.SVC(kernel='linear') # Linear Kernel\n",
    "\n",
    "    #Εκπα΄ίδευση του μοντέλου χρησιμοποιώντας τα δεδομένα εκπαίδευσης(training sets)\n",
    "    clf.fit(X_train,y_train)\n",
    "\n",
    "    #Πρόβλεψη του μοντέλου στα δεδομένα δοκιμ΄ής(test dataset)\n",
    "    y_pred = clf.predict(X_test)\n",
    "    \n",
    "    #print(\"SVM Accuracy:\",metrics.accuracy_score(y_test, y_pred))\n",
    "    \n",
    "    return y_pred,clf\n",
    "    \n",
    "    #return y_test,y_pred"
   ]
  },
  {
   "cell_type": "code",
   "execution_count": 13,
   "metadata": {},
   "outputs": [],
   "source": [
    "#Εφαρμογή DecisionTree\n",
    "def treeAlgorithm(X_train, X_test, y_train, y_test):\n",
    "    \n",
    "    #Δημιουργία DecisionTree Classifier\n",
    "    clf = DecisionTreeClassifier()\n",
    "\n",
    "    # Εκπαίδευση του  DecisionTree Classifer\n",
    "    clf = clf.fit(X_train,y_train)\n",
    "\n",
    "    #Πρόβλεψη του μοντέλου στα δεδομένα δοκιμ΄ής(test dataset)\n",
    "    y_pred = clf.predict(X_test)\n",
    "\n",
    "\n",
    "    #print(\"Decision Tree Accuracy:\",metrics.accuracy_score(y_test, y_pred))\n",
    "    \n",
    "    return y_pred,clf\n",
    "    #return y_test,y_pred\n",
    "    #return clf"
   ]
  },
  {
   "cell_type": "code",
   "execution_count": 37,
   "metadata": {},
   "outputs": [],
   "source": [
    "#Confusion Matrix εμφάνιση\n",
    "from sklearn.metrics import ConfusionMatrixDisplay\n",
    "\n",
    "def confusionMatrix(X_test,y_test,y_pred,clf):\n",
    "    #labels = ['LIVING','DECEASED']\n",
    "    disp = plot_confusion_matrix(clf,X_test,y_test, cmap='Blues', values_format='.3g')\n",
    "    \n",
    "    #disp = ConfusionMatrixDisplay.from_estimator(clf, X_test, y_test, cmap='Blues', values_format='.3g') #, display_labels=labels"
   ]
  },
  {
   "cell_type": "code",
   "execution_count": 15,
   "metadata": {},
   "outputs": [],
   "source": [
    "#Εφαρμογή SMOTE σε κάθε dataset\n",
    "def smoteAlgorithm(df):\n",
    "    data = df.values\n",
    "    X, y = data[:, :-1], data[:, -1]\n",
    "\n",
    "    #μετατροπή του dataset\n",
    "    oversample = SMOTE()\n",
    "    X, y = oversample.fit_resample(X, y)\n",
    "    #return X,y\n",
    "    \n",
    "    #Μετράμε τον νέο αριθμό των κλάσεων (πόσα DECEASED και LIVING έχουμε τώρα)\n",
    "    counter = Counter(y)\n",
    "    print(counter)\n",
    "    \"\"\"\n",
    "    # scatter plot of examples by class label\n",
    "    for label, _ in counter.items():\n",
    "        row_ix = where(y == label)[0]\n",
    "        pyplot.scatter(X[row_ix, 0], X[row_ix, 1], label=str(label))\n",
    "    pyplot.legend()\n",
    "    pyplot.show()\n",
    "    \"\"\"\n",
    "    return X,y"
   ]
  },
  {
   "cell_type": "code",
   "execution_count": 16,
   "metadata": {},
   "outputs": [],
   "source": [
    "#Εφαρμόζει SVM & DT στο κάθε dataset\n",
    "#Εμφανίζει accuracies & conf matrix \n",
    "def applyModels(dfNormalize):\n",
    "    data = dfNormalize.values\n",
    "    X, y = data[:, :-1], data[:, -1]\n",
    "\n",
    "    X_train, X_test, y_train, y_test = train_test_split(X, y, test_size=0.3, random_state=1) #, random_state=1\n",
    "\n",
    "    y_pred,clf = svmAlgorithm(X_train, X_test, y_train, y_test)\n",
    "    confusionMatrix(X_test,y_test,y_pred,clf)\n",
    "    print(\"SVM Accuracy:\",metrics.accuracy_score(y_test, y_pred))\n",
    "\n",
    "    y_pred,clf = treeAlgorithm(X_train, X_test, y_train, y_test)\n",
    "    print(\"DecisionTree Accuracy:\",metrics.accuracy_score(y_test, y_pred))\n",
    "    confusionMatrix(X_test,y_test,y_pred,clf)"
   ]
  },
  {
   "cell_type": "code",
   "execution_count": 17,
   "metadata": {},
   "outputs": [],
   "source": [
    "#Εφαρμόζει τον αλγόριθμο για feature selection ANOVA\n",
    "\n",
    "def featureSelection(dataframe):\n",
    "    data = dataframe\n",
    "    X = data.iloc[:,:-1]  #independent columns\n",
    "    y = data.iloc[:,-1]    #target column i.e price range\n",
    "\n",
    "    #εφαρμογή SelectKBest για εξαγωγή των 10 καλύτερων χαρακτηριστικών\n",
    "    bestfeatures = SelectKBest(f_classif, k=10)\n",
    "    fit = bestfeatures.fit(X,y)\n",
    "    dfscores = pd.DataFrame(fit.scores_)\n",
    "    dfcolumns = pd.DataFrame(X.columns)\n",
    " \n",
    "    #συνένωση των δυο σετς για καλυτερη οπτικοποίηση\n",
    "    featureScores = pd.concat([dfcolumns,dfscores],axis=1)\n",
    "    featureScores.columns = ['Specs','Score']  #ονομασία των dataframe columns\n",
    "    #print(featureScores.nlargest(10,'Score'))  #print 10 best features\n",
    "    \n",
    "    #βάζω τα τοπ 10 χαρακτηριστικά σε λίστα\n",
    "    topTenFeatures = featureScores.nlargest(10,'Score')\n",
    "    lista = topTenFeatures['Specs'].tolist()\n",
    "\n",
    "    \n",
    "    #ψάχνω στο αρχικό dataframe τα τοπ 10 χαρακτηριστικά και δημιουργώ νέο dataframe\n",
    "    dataframe_fs = dataframe[lista]\n",
    "\n",
    "    #προσθέτω την κλάση Death στο τελος του dataframe\n",
    "    last_column = dataframe.iloc[: , -1]\n",
    "    dataframe_fs['Death'] = last_column\n",
    "    \n",
    "    #σβήνει το warning\n",
    "    pd.set_option('mode.chained_assignment', None)\n",
    "    #pd.options.mode.chained_assignment = None  # default='warn'\n",
    "\n",
    "    return dataframe_fs"
   ]
  },
  {
   "cell_type": "markdown",
   "metadata": {},
   "source": [
    "# End of functions"
   ]
  },
  {
   "cell_type": "markdown",
   "metadata": {},
   "source": [
    "Διαβάζω τα αρχεία απο το pc βαζοντας οτι καρκίνο θελω"
   ]
  },
  {
   "cell_type": "code",
   "execution_count": 97,
   "metadata": {},
   "outputs": [
    {
     "name": "stdout",
     "output_type": "stream",
     "text": [
      "['liver', 'breast', 'ovarian', 'sarcoma', 'kidney', 'lung', 'colon', 'aml', 'gbm', 'melanoma']\n",
      "Please enter Cancer name from the list: kidney\n"
     ]
    }
   ],
   "source": [
    "cancers=['liver','breast','ovarian','sarcoma','kidney','lung','colon','aml','gbm','melanoma']\n",
    "print (cancers)\n",
    "\n",
    "cancerType = input(\"Please enter Cancer name from the list: \")\n",
    "cancerType = cancerType.lower()\n",
    "\n",
    "\n",
    "genesFile=\"C:/Users/nikos/Desktop/ΠΤΥΧΙΑΚΗ ΕΡΓΑΣΙΑ/version2_ptyxiaki/CancerDataTCGA/{}/exp\".format(cancerType)\n",
    "methyFile=\"C:/Users/nikos/Desktop/ΠΤΥΧΙΑΚΗ ΕΡΓΑΣΙΑ/version2_ptyxiaki/CancerDataTCGA/{}/methy\".format(cancerType)\n",
    "mirnaFile=\"C:/Users/nikos/Desktop/ΠΤΥΧΙΑΚΗ ΕΡΓΑΣΙΑ/version2_ptyxiaki/CancerDataTCGA/{}/mirna\".format(cancerType)\n",
    "survFile=\"C:/Users/nikos/Desktop/ΠΤΥΧΙΑΚΗ ΕΡΓΑΣΙΑ/version2_ptyxiaki/CancerDataTCGA/{}/survival\".format(cancerType)\n",
    "clinFile=\"C:/Users/nikos/Desktop/ΠΤΥΧΙΑΚΗ ΕΡΓΑΣΙΑ/version2_ptyxiaki/CancerDataTCGA/{}/{}\".format(cancerType,cancerType)\n",
    "\n",
    "genes,methylation,mirna,surv,clin = GenomeDataReader(genesFile,methyFile,mirnaFile,survFile,clinFile)"
   ]
  },
  {
   "cell_type": "code",
   "execution_count": 98,
   "metadata": {},
   "outputs": [],
   "source": [
    "#sosto\n",
    "#genes,methylation,mirna,surv,clin = GenomeDataReader(\"C:/Users/Nikos Oikonomou/Desktop/CancerDataTCGA/ovarian/exp\",\"C:/Users/Nikos Oikonomou/Desktop/CancerDataTCGA/ovarian/methy\",\"C:/Users/Nikos Oikonomou/Desktop/CancerDataTCGA/ovarian/mirna\",\"C:/Users/Nikos Oikonomou/Desktop/CancerDataTCGA/ovarian/survival\",\"C:/Users/Nikos Oikonomou/Desktop/CancerDataTCGA/ovarian/ovarian\")"
   ]
  },
  {
   "cell_type": "markdown",
   "metadata": {},
   "source": [
    "Το αφηνω να δω πως ειναι πριν την επεξεργασια το survival αρχειο"
   ]
  },
  {
   "cell_type": "code",
   "execution_count": 99,
   "metadata": {},
   "outputs": [
    {
     "data": {
      "text/html": [
       "<div>\n",
       "<style scoped>\n",
       "    .dataframe tbody tr th:only-of-type {\n",
       "        vertical-align: middle;\n",
       "    }\n",
       "\n",
       "    .dataframe tbody tr th {\n",
       "        vertical-align: top;\n",
       "    }\n",
       "\n",
       "    .dataframe thead th {\n",
       "        text-align: right;\n",
       "    }\n",
       "</style>\n",
       "<table border=\"1\" class=\"dataframe\">\n",
       "  <thead>\n",
       "    <tr style=\"text-align: right;\">\n",
       "      <th></th>\n",
       "      <th>PatientID</th>\n",
       "      <th>Survival</th>\n",
       "      <th>Death</th>\n",
       "    </tr>\n",
       "  </thead>\n",
       "  <tbody>\n",
       "    <tr>\n",
       "      <th>0</th>\n",
       "      <td>TCGA-3Z-A93Z-01</td>\n",
       "      <td>385.0</td>\n",
       "      <td>0.0</td>\n",
       "    </tr>\n",
       "    <tr>\n",
       "      <th>1</th>\n",
       "      <td>TCGA-6D-AA2E-01</td>\n",
       "      <td>362.0</td>\n",
       "      <td>0.0</td>\n",
       "    </tr>\n",
       "    <tr>\n",
       "      <th>2</th>\n",
       "      <td>TCGA-A3-3306-01</td>\n",
       "      <td>1120.0</td>\n",
       "      <td>0.0</td>\n",
       "    </tr>\n",
       "    <tr>\n",
       "      <th>3</th>\n",
       "      <td>TCGA-A3-3306-11</td>\n",
       "      <td>1120.0</td>\n",
       "      <td>0.0</td>\n",
       "    </tr>\n",
       "    <tr>\n",
       "      <th>4</th>\n",
       "      <td>TCGA-A3-3307-01</td>\n",
       "      <td>1436.0</td>\n",
       "      <td>0.0</td>\n",
       "    </tr>\n",
       "    <tr>\n",
       "      <th>...</th>\n",
       "      <td>...</td>\n",
       "      <td>...</td>\n",
       "      <td>...</td>\n",
       "    </tr>\n",
       "    <tr>\n",
       "      <th>940</th>\n",
       "      <td>TCGA-MM-A563-01</td>\n",
       "      <td>591.0</td>\n",
       "      <td>0.0</td>\n",
       "    </tr>\n",
       "    <tr>\n",
       "      <th>941</th>\n",
       "      <td>TCGA-MM-A564-01</td>\n",
       "      <td>607.0</td>\n",
       "      <td>0.0</td>\n",
       "    </tr>\n",
       "    <tr>\n",
       "      <th>942</th>\n",
       "      <td>TCGA-MM-A84U-01</td>\n",
       "      <td>700.0</td>\n",
       "      <td>0.0</td>\n",
       "    </tr>\n",
       "    <tr>\n",
       "      <th>943</th>\n",
       "      <td>TCGA-MW-A4EC-01</td>\n",
       "      <td>498.0</td>\n",
       "      <td>0.0</td>\n",
       "    </tr>\n",
       "    <tr>\n",
       "      <th>944</th>\n",
       "      <td>TCGA-T7-A92I-01</td>\n",
       "      <td>356.0</td>\n",
       "      <td>0.0</td>\n",
       "    </tr>\n",
       "  </tbody>\n",
       "</table>\n",
       "<p>945 rows × 3 columns</p>\n",
       "</div>"
      ],
      "text/plain": [
       "           PatientID  Survival  Death\n",
       "0    TCGA-3Z-A93Z-01     385.0    0.0\n",
       "1    TCGA-6D-AA2E-01     362.0    0.0\n",
       "2    TCGA-A3-3306-01    1120.0    0.0\n",
       "3    TCGA-A3-3306-11    1120.0    0.0\n",
       "4    TCGA-A3-3307-01    1436.0    0.0\n",
       "..               ...       ...    ...\n",
       "940  TCGA-MM-A563-01     591.0    0.0\n",
       "941  TCGA-MM-A564-01     607.0    0.0\n",
       "942  TCGA-MM-A84U-01     700.0    0.0\n",
       "943  TCGA-MW-A4EC-01     498.0    0.0\n",
       "944  TCGA-T7-A92I-01     356.0    0.0\n",
       "\n",
       "[945 rows x 3 columns]"
      ]
     },
     "execution_count": 99,
     "metadata": {},
     "output_type": "execute_result"
    }
   ],
   "source": [
    "surv.sort_values('PatientID') #edo to afino na vlepo pos einai prin tis allages"
   ]
  },
  {
   "cell_type": "markdown",
   "metadata": {},
   "source": [
    "Καλώ τη survivalData και φτιαχνει το αρχειο στη σωστη μορφη"
   ]
  },
  {
   "cell_type": "code",
   "execution_count": 100,
   "metadata": {},
   "outputs": [
    {
     "data": {
      "text/html": [
       "<div>\n",
       "<style scoped>\n",
       "    .dataframe tbody tr th:only-of-type {\n",
       "        vertical-align: middle;\n",
       "    }\n",
       "\n",
       "    .dataframe tbody tr th {\n",
       "        vertical-align: top;\n",
       "    }\n",
       "\n",
       "    .dataframe thead th {\n",
       "        text-align: right;\n",
       "    }\n",
       "</style>\n",
       "<table border=\"1\" class=\"dataframe\">\n",
       "  <thead>\n",
       "    <tr style=\"text-align: right;\">\n",
       "      <th></th>\n",
       "      <th>PatientID</th>\n",
       "      <th>Death</th>\n",
       "    </tr>\n",
       "  </thead>\n",
       "  <tbody>\n",
       "    <tr>\n",
       "      <th>0</th>\n",
       "      <td>TCGA.3Z.A93Z.01</td>\n",
       "      <td>0.0</td>\n",
       "    </tr>\n",
       "    <tr>\n",
       "      <th>1</th>\n",
       "      <td>TCGA.6D.AA2E.01</td>\n",
       "      <td>0.0</td>\n",
       "    </tr>\n",
       "    <tr>\n",
       "      <th>2</th>\n",
       "      <td>TCGA.A3.3306.01</td>\n",
       "      <td>0.0</td>\n",
       "    </tr>\n",
       "    <tr>\n",
       "      <th>3</th>\n",
       "      <td>TCGA.A3.3306.11</td>\n",
       "      <td>0.0</td>\n",
       "    </tr>\n",
       "    <tr>\n",
       "      <th>4</th>\n",
       "      <td>TCGA.A3.3307.01</td>\n",
       "      <td>0.0</td>\n",
       "    </tr>\n",
       "    <tr>\n",
       "      <th>...</th>\n",
       "      <td>...</td>\n",
       "      <td>...</td>\n",
       "    </tr>\n",
       "    <tr>\n",
       "      <th>938</th>\n",
       "      <td>TCGA.MM.A563.01</td>\n",
       "      <td>0.0</td>\n",
       "    </tr>\n",
       "    <tr>\n",
       "      <th>939</th>\n",
       "      <td>TCGA.MM.A564.01</td>\n",
       "      <td>0.0</td>\n",
       "    </tr>\n",
       "    <tr>\n",
       "      <th>940</th>\n",
       "      <td>TCGA.MM.A84U.01</td>\n",
       "      <td>0.0</td>\n",
       "    </tr>\n",
       "    <tr>\n",
       "      <th>941</th>\n",
       "      <td>TCGA.MW.A4EC.01</td>\n",
       "      <td>0.0</td>\n",
       "    </tr>\n",
       "    <tr>\n",
       "      <th>942</th>\n",
       "      <td>TCGA.T7.A92I.01</td>\n",
       "      <td>0.0</td>\n",
       "    </tr>\n",
       "  </tbody>\n",
       "</table>\n",
       "<p>943 rows × 2 columns</p>\n",
       "</div>"
      ],
      "text/plain": [
       "           PatientID  Death\n",
       "0    TCGA.3Z.A93Z.01    0.0\n",
       "1    TCGA.6D.AA2E.01    0.0\n",
       "2    TCGA.A3.3306.01    0.0\n",
       "3    TCGA.A3.3306.11    0.0\n",
       "4    TCGA.A3.3307.01    0.0\n",
       "..               ...    ...\n",
       "938  TCGA.MM.A563.01    0.0\n",
       "939  TCGA.MM.A564.01    0.0\n",
       "940  TCGA.MM.A84U.01    0.0\n",
       "941  TCGA.MW.A4EC.01    0.0\n",
       "942  TCGA.T7.A92I.01    0.0\n",
       "\n",
       "[943 rows x 2 columns]"
      ]
     },
     "execution_count": 100,
     "metadata": {},
     "output_type": "execute_result"
    }
   ],
   "source": [
    "surv = survivalData(surv)\n",
    "surv"
   ]
  },
  {
   "cell_type": "markdown",
   "metadata": {},
   "source": [
    "Σε περιπτωση που ενα dataset εχει - αντι . στα columns τα διορθωνει ωστε να μην υπαρχει θεμα (μονο το methylation στο ovarian ειναι )"
   ]
  },
  {
   "cell_type": "code",
   "execution_count": 101,
   "metadata": {},
   "outputs": [],
   "source": [
    "genes,methy,mirna = omicDatasetRefactor(genes,methylation,mirna)"
   ]
  },
  {
   "cell_type": "markdown",
   "metadata": {},
   "source": [
    "Βρισκω τους κοινους ασθενεις ολων των αρχειων (genes,methylation,miRNA,survival)"
   ]
  },
  {
   "cell_type": "code",
   "execution_count": 102,
   "metadata": {},
   "outputs": [
    {
     "data": {
      "text/plain": [
       "['TCGA.3Z.A93Z.01',\n",
       " 'TCGA.6D.AA2E.01',\n",
       " 'TCGA.A3.3358.01',\n",
       " 'TCGA.A3.3387.01',\n",
       " 'TCGA.A3.A6NI.01',\n",
       " 'TCGA.A3.A6NJ.01',\n",
       " 'TCGA.A3.A6NL.01',\n",
       " 'TCGA.A3.A6NN.01',\n",
       " 'TCGA.A3.A8CQ.01',\n",
       " 'TCGA.A3.A8OV.01',\n",
       " 'TCGA.A3.A8OW.01',\n",
       " 'TCGA.AK.3440.01',\n",
       " 'TCGA.AK.3458.01',\n",
       " 'TCGA.B0.4698.01',\n",
       " 'TCGA.B0.4700.01',\n",
       " 'TCGA.B0.4706.01',\n",
       " 'TCGA.B0.4710.01',\n",
       " 'TCGA.B0.4712.01',\n",
       " 'TCGA.B0.4712.11',\n",
       " 'TCGA.B0.4810.01',\n",
       " 'TCGA.B0.4811.01',\n",
       " 'TCGA.B0.4815.01',\n",
       " 'TCGA.B0.4816.01',\n",
       " 'TCGA.B0.4818.01',\n",
       " 'TCGA.B0.4821.01',\n",
       " 'TCGA.B0.4852.01',\n",
       " 'TCGA.B0.5080.01',\n",
       " 'TCGA.B0.5399.01',\n",
       " 'TCGA.B0.5400.01',\n",
       " 'TCGA.B0.5402.01',\n",
       " 'TCGA.B0.5402.11',\n",
       " 'TCGA.B0.5690.01',\n",
       " 'TCGA.B0.5691.01',\n",
       " 'TCGA.B0.5692.01',\n",
       " 'TCGA.B0.5693.01',\n",
       " 'TCGA.B0.5694.01',\n",
       " 'TCGA.B0.5695.01',\n",
       " 'TCGA.B0.5696.01',\n",
       " 'TCGA.B0.5697.01',\n",
       " 'TCGA.B0.5698.01',\n",
       " 'TCGA.B0.5699.01',\n",
       " 'TCGA.B0.5700.01',\n",
       " 'TCGA.B0.5701.01',\n",
       " 'TCGA.B0.5702.01',\n",
       " 'TCGA.B0.5703.01',\n",
       " 'TCGA.B0.5705.01',\n",
       " 'TCGA.B0.5706.01',\n",
       " 'TCGA.B0.5707.01',\n",
       " 'TCGA.B0.5709.01',\n",
       " 'TCGA.B0.5710.01',\n",
       " 'TCGA.B0.5711.01',\n",
       " 'TCGA.B0.5711.11',\n",
       " 'TCGA.B0.5712.01',\n",
       " 'TCGA.B0.5712.11',\n",
       " 'TCGA.B0.5713.01',\n",
       " 'TCGA.B0.5812.01',\n",
       " 'TCGA.B2.3924.01',\n",
       " 'TCGA.B2.5633.01',\n",
       " 'TCGA.B2.5635.01',\n",
       " 'TCGA.B2.5636.01',\n",
       " 'TCGA.B2.5639.01',\n",
       " 'TCGA.B2.5641.01',\n",
       " 'TCGA.B2.A4SR.01',\n",
       " 'TCGA.B4.5377.01',\n",
       " 'TCGA.B4.5378.01',\n",
       " 'TCGA.B4.5832.01',\n",
       " 'TCGA.B4.5834.01',\n",
       " 'TCGA.B4.5835.01',\n",
       " 'TCGA.B4.5836.01',\n",
       " 'TCGA.B4.5838.01',\n",
       " 'TCGA.B4.5843.01',\n",
       " 'TCGA.B4.5844.01',\n",
       " 'TCGA.B8.4146.01',\n",
       " 'TCGA.B8.4153.01',\n",
       " 'TCGA.B8.4621.01',\n",
       " 'TCGA.B8.5545.01',\n",
       " 'TCGA.B8.5546.01',\n",
       " 'TCGA.B8.5549.01',\n",
       " 'TCGA.B8.5550.01',\n",
       " 'TCGA.B8.5551.01',\n",
       " 'TCGA.B8.5552.01',\n",
       " 'TCGA.B8.5553.01',\n",
       " 'TCGA.B8.A54D.01',\n",
       " 'TCGA.B8.A54E.01',\n",
       " 'TCGA.B8.A54F.01',\n",
       " 'TCGA.B8.A54G.01',\n",
       " 'TCGA.B8.A54H.01',\n",
       " 'TCGA.B8.A54I.01',\n",
       " 'TCGA.B8.A54J.01',\n",
       " 'TCGA.B8.A54K.01',\n",
       " 'TCGA.B8.A7U6.01',\n",
       " 'TCGA.B8.A8YJ.01',\n",
       " 'TCGA.BP.4770.01',\n",
       " 'TCGA.CJ.5671.01',\n",
       " 'TCGA.CJ.5672.01',\n",
       " 'TCGA.CJ.5675.01',\n",
       " 'TCGA.CJ.5676.01',\n",
       " 'TCGA.CJ.5677.01',\n",
       " 'TCGA.CJ.5678.01',\n",
       " 'TCGA.CJ.5679.01',\n",
       " 'TCGA.CJ.5680.01',\n",
       " 'TCGA.CJ.5681.01',\n",
       " 'TCGA.CJ.5682.01',\n",
       " 'TCGA.CJ.5683.01',\n",
       " 'TCGA.CJ.5684.01',\n",
       " 'TCGA.CJ.5686.01',\n",
       " 'TCGA.CJ.5689.01',\n",
       " 'TCGA.CJ.6027.01',\n",
       " 'TCGA.CJ.6028.01',\n",
       " 'TCGA.CJ.6030.01',\n",
       " 'TCGA.CJ.6031.01',\n",
       " 'TCGA.CJ.6032.01',\n",
       " 'TCGA.CJ.6033.01',\n",
       " 'TCGA.CW.5580.01',\n",
       " 'TCGA.CW.5581.01',\n",
       " 'TCGA.CW.5583.01',\n",
       " 'TCGA.CW.5584.01',\n",
       " 'TCGA.CW.5585.01',\n",
       " 'TCGA.CW.5587.01',\n",
       " 'TCGA.CW.5588.01',\n",
       " 'TCGA.CW.5589.01',\n",
       " 'TCGA.CW.5590.01',\n",
       " 'TCGA.CW.5591.01',\n",
       " 'TCGA.CW.6087.01',\n",
       " 'TCGA.CW.6088.01',\n",
       " 'TCGA.CW.6090.01',\n",
       " 'TCGA.CW.6093.01',\n",
       " 'TCGA.CW.6097.01',\n",
       " 'TCGA.CZ.4863.01',\n",
       " 'TCGA.CZ.4863.11',\n",
       " 'TCGA.CZ.4864.01',\n",
       " 'TCGA.CZ.4864.11',\n",
       " 'TCGA.CZ.4865.01',\n",
       " 'TCGA.CZ.4865.11',\n",
       " 'TCGA.CZ.4866.01',\n",
       " 'TCGA.CZ.5451.01',\n",
       " 'TCGA.CZ.5451.11',\n",
       " 'TCGA.CZ.5452.01',\n",
       " 'TCGA.CZ.5452.11',\n",
       " 'TCGA.CZ.5453.01',\n",
       " 'TCGA.CZ.5453.11',\n",
       " 'TCGA.CZ.5454.01',\n",
       " 'TCGA.CZ.5454.11',\n",
       " 'TCGA.CZ.5455.01',\n",
       " 'TCGA.CZ.5455.11',\n",
       " 'TCGA.CZ.5456.01',\n",
       " 'TCGA.CZ.5456.11',\n",
       " 'TCGA.CZ.5457.01',\n",
       " 'TCGA.CZ.5457.11',\n",
       " 'TCGA.CZ.5458.01',\n",
       " 'TCGA.CZ.5458.11',\n",
       " 'TCGA.CZ.5459.01',\n",
       " 'TCGA.CZ.5460.01',\n",
       " 'TCGA.CZ.5461.01',\n",
       " 'TCGA.CZ.5461.11',\n",
       " 'TCGA.CZ.5462.01',\n",
       " 'TCGA.CZ.5462.11',\n",
       " 'TCGA.CZ.5463.01',\n",
       " 'TCGA.CZ.5463.11',\n",
       " 'TCGA.CZ.5464.01',\n",
       " 'TCGA.CZ.5465.01',\n",
       " 'TCGA.CZ.5465.11',\n",
       " 'TCGA.CZ.5466.01',\n",
       " 'TCGA.CZ.5466.11',\n",
       " 'TCGA.CZ.5467.01',\n",
       " 'TCGA.CZ.5467.11',\n",
       " 'TCGA.CZ.5468.01',\n",
       " 'TCGA.CZ.5468.11',\n",
       " 'TCGA.CZ.5469.01',\n",
       " 'TCGA.CZ.5469.11',\n",
       " 'TCGA.CZ.5470.01',\n",
       " 'TCGA.CZ.5470.11',\n",
       " 'TCGA.CZ.5982.01',\n",
       " 'TCGA.CZ.5984.01',\n",
       " 'TCGA.CZ.5985.01',\n",
       " 'TCGA.CZ.5986.01',\n",
       " 'TCGA.CZ.5987.01',\n",
       " 'TCGA.CZ.5988.01',\n",
       " 'TCGA.CZ.5989.01',\n",
       " 'TCGA.DV.5565.01',\n",
       " 'TCGA.DV.5566.01',\n",
       " 'TCGA.DV.5567.01',\n",
       " 'TCGA.DV.5568.01',\n",
       " 'TCGA.DV.5569.01',\n",
       " 'TCGA.DV.5573.01',\n",
       " 'TCGA.DV.5574.01',\n",
       " 'TCGA.DV.5575.01',\n",
       " 'TCGA.DV.5576.01',\n",
       " 'TCGA.DV.A4VX.01',\n",
       " 'TCGA.DV.A4VZ.01',\n",
       " 'TCGA.DV.A4W0.01',\n",
       " 'TCGA.DV.A4W0.05',\n",
       " 'TCGA.EU.5904.01',\n",
       " 'TCGA.EU.5905.01',\n",
       " 'TCGA.EU.5906.01',\n",
       " 'TCGA.EU.5907.01',\n",
       " 'TCGA.G6.A5PC.01',\n",
       " 'TCGA.G6.A8L6.01',\n",
       " 'TCGA.G6.A8L7.01',\n",
       " 'TCGA.G6.A8L8.01',\n",
       " 'TCGA.GK.A6C7.01',\n",
       " 'TCGA.MM.A563.01',\n",
       " 'TCGA.MM.A564.01',\n",
       " 'TCGA.MM.A84U.01',\n",
       " 'TCGA.MW.A4EC.01',\n",
       " 'TCGA.T7.A92I.01']"
      ]
     },
     "execution_count": 102,
     "metadata": {},
     "output_type": "execute_result"
    }
   ],
   "source": [
    "#Koinoi asthenois metaksi ton arxeion\n",
    "commonPatients = findCommonPatients(genes,methylation,mirna,surv)\n",
    "commonPatients"
   ]
  },
  {
   "cell_type": "code",
   "execution_count": 103,
   "metadata": {},
   "outputs": [
    {
     "data": {
      "text/plain": [
       "206"
      ]
     },
     "execution_count": 103,
     "metadata": {},
     "output_type": "execute_result"
    }
   ],
   "source": [
    "len(commonPatients)"
   ]
  },
  {
   "cell_type": "markdown",
   "metadata": {},
   "source": [
    "Δημιουργει τα νεα σετς με τους κοινους ασθενεις μονο και εχει προσθεσει στο τελος αν ειναι ζωντανοι ή οχι"
   ]
  },
  {
   "cell_type": "code",
   "execution_count": 104,
   "metadata": {},
   "outputs": [],
   "source": [
    "test1Genes = commonPatientsRefactor(genes,surv,commonPatients)\n",
    "test2Methylation = commonPatientsRefactor(methylation,surv,commonPatients)\n",
    "test3mirna = commonPatientsRefactor(mirna,surv,commonPatients)"
   ]
  },
  {
   "cell_type": "markdown",
   "metadata": {},
   "source": [
    "Κανει ομαλοποίηση στις τιμές των παραπανω σετς"
   ]
  },
  {
   "cell_type": "code",
   "execution_count": 105,
   "metadata": {},
   "outputs": [],
   "source": [
    "#normalize data\n",
    "genesN = dataNormalization(test1Genes)\n",
    "methylationN = dataNormalization(test2Methylation)\n",
    "mirnaN = dataNormalization(test3mirna)"
   ]
  },
  {
   "cell_type": "markdown",
   "metadata": {},
   "source": [
    "Κανει συνένωση των ομαλοποιημένων σετς"
   ]
  },
  {
   "cell_type": "code",
   "execution_count": 106,
   "metadata": {},
   "outputs": [
    {
     "data": {
      "text/html": [
       "<div>\n",
       "<style scoped>\n",
       "    .dataframe tbody tr th:only-of-type {\n",
       "        vertical-align: middle;\n",
       "    }\n",
       "\n",
       "    .dataframe tbody tr th {\n",
       "        vertical-align: top;\n",
       "    }\n",
       "\n",
       "    .dataframe thead th {\n",
       "        text-align: right;\n",
       "    }\n",
       "</style>\n",
       "<table border=\"1\" class=\"dataframe\">\n",
       "  <thead>\n",
       "    <tr style=\"text-align: right;\">\n",
       "      <th></th>\n",
       "      <th>?|100130426</th>\n",
       "      <th>?|100133144</th>\n",
       "      <th>?|100134869</th>\n",
       "      <th>?|10357</th>\n",
       "      <th>?|10431</th>\n",
       "      <th>?|136542</th>\n",
       "      <th>?|155060</th>\n",
       "      <th>?|26823</th>\n",
       "      <th>?|280660</th>\n",
       "      <th>?|317712</th>\n",
       "      <th>...</th>\n",
       "      <th>hsa-mir-941-4</th>\n",
       "      <th>hsa-mir-942</th>\n",
       "      <th>hsa-mir-943</th>\n",
       "      <th>hsa-mir-944</th>\n",
       "      <th>hsa-mir-95</th>\n",
       "      <th>hsa-mir-96</th>\n",
       "      <th>hsa-mir-98</th>\n",
       "      <th>hsa-mir-99a</th>\n",
       "      <th>hsa-mir-99b</th>\n",
       "      <th>Death</th>\n",
       "    </tr>\n",
       "    <tr>\n",
       "      <th>PatientID</th>\n",
       "      <th></th>\n",
       "      <th></th>\n",
       "      <th></th>\n",
       "      <th></th>\n",
       "      <th></th>\n",
       "      <th></th>\n",
       "      <th></th>\n",
       "      <th></th>\n",
       "      <th></th>\n",
       "      <th></th>\n",
       "      <th></th>\n",
       "      <th></th>\n",
       "      <th></th>\n",
       "      <th></th>\n",
       "      <th></th>\n",
       "      <th></th>\n",
       "      <th></th>\n",
       "      <th></th>\n",
       "      <th></th>\n",
       "      <th></th>\n",
       "      <th></th>\n",
       "    </tr>\n",
       "  </thead>\n",
       "  <tbody>\n",
       "    <tr>\n",
       "      <th>TCGA.3Z.A93Z.01</th>\n",
       "      <td>0.000000</td>\n",
       "      <td>0.088793</td>\n",
       "      <td>0.698026</td>\n",
       "      <td>0.542431</td>\n",
       "      <td>0.134410</td>\n",
       "      <td>0.0</td>\n",
       "      <td>0.097328</td>\n",
       "      <td>0.000000</td>\n",
       "      <td>0.0</td>\n",
       "      <td>0.0</td>\n",
       "      <td>...</td>\n",
       "      <td>0.0</td>\n",
       "      <td>0.084454</td>\n",
       "      <td>0.000000</td>\n",
       "      <td>0.051812</td>\n",
       "      <td>0.074273</td>\n",
       "      <td>0.064241</td>\n",
       "      <td>0.225102</td>\n",
       "      <td>0.445995</td>\n",
       "      <td>0.278258</td>\n",
       "      <td>0.0</td>\n",
       "    </tr>\n",
       "    <tr>\n",
       "      <th>TCGA.6D.AA2E.01</th>\n",
       "      <td>0.000000</td>\n",
       "      <td>0.073478</td>\n",
       "      <td>0.146516</td>\n",
       "      <td>0.339992</td>\n",
       "      <td>0.532552</td>\n",
       "      <td>0.0</td>\n",
       "      <td>0.132135</td>\n",
       "      <td>0.249249</td>\n",
       "      <td>0.0</td>\n",
       "      <td>0.0</td>\n",
       "      <td>...</td>\n",
       "      <td>0.0</td>\n",
       "      <td>0.189679</td>\n",
       "      <td>0.000000</td>\n",
       "      <td>0.286439</td>\n",
       "      <td>0.162535</td>\n",
       "      <td>0.015441</td>\n",
       "      <td>0.210389</td>\n",
       "      <td>0.521716</td>\n",
       "      <td>0.284126</td>\n",
       "      <td>0.0</td>\n",
       "    </tr>\n",
       "    <tr>\n",
       "      <th>TCGA.A3.3358.01</th>\n",
       "      <td>0.460681</td>\n",
       "      <td>0.196114</td>\n",
       "      <td>0.066601</td>\n",
       "      <td>0.438346</td>\n",
       "      <td>0.148429</td>\n",
       "      <td>0.0</td>\n",
       "      <td>0.093260</td>\n",
       "      <td>0.073461</td>\n",
       "      <td>0.0</td>\n",
       "      <td>0.0</td>\n",
       "      <td>...</td>\n",
       "      <td>0.0</td>\n",
       "      <td>0.126056</td>\n",
       "      <td>0.000000</td>\n",
       "      <td>0.371204</td>\n",
       "      <td>0.099774</td>\n",
       "      <td>0.040022</td>\n",
       "      <td>0.326750</td>\n",
       "      <td>0.333967</td>\n",
       "      <td>0.463249</td>\n",
       "      <td>0.0</td>\n",
       "    </tr>\n",
       "    <tr>\n",
       "      <th>TCGA.A3.3387.01</th>\n",
       "      <td>0.000000</td>\n",
       "      <td>0.249034</td>\n",
       "      <td>0.207864</td>\n",
       "      <td>0.451981</td>\n",
       "      <td>0.229085</td>\n",
       "      <td>0.0</td>\n",
       "      <td>0.209945</td>\n",
       "      <td>0.676574</td>\n",
       "      <td>0.0</td>\n",
       "      <td>0.0</td>\n",
       "      <td>...</td>\n",
       "      <td>0.0</td>\n",
       "      <td>0.078922</td>\n",
       "      <td>0.000000</td>\n",
       "      <td>0.077469</td>\n",
       "      <td>0.138816</td>\n",
       "      <td>0.133638</td>\n",
       "      <td>0.187480</td>\n",
       "      <td>0.280792</td>\n",
       "      <td>0.388375</td>\n",
       "      <td>0.0</td>\n",
       "    </tr>\n",
       "    <tr>\n",
       "      <th>TCGA.A3.A6NI.01</th>\n",
       "      <td>0.522665</td>\n",
       "      <td>0.168077</td>\n",
       "      <td>0.801170</td>\n",
       "      <td>0.369960</td>\n",
       "      <td>0.211527</td>\n",
       "      <td>0.0</td>\n",
       "      <td>0.166329</td>\n",
       "      <td>0.166690</td>\n",
       "      <td>0.0</td>\n",
       "      <td>0.0</td>\n",
       "      <td>...</td>\n",
       "      <td>0.0</td>\n",
       "      <td>0.082503</td>\n",
       "      <td>0.158199</td>\n",
       "      <td>0.000000</td>\n",
       "      <td>0.058953</td>\n",
       "      <td>0.081857</td>\n",
       "      <td>0.129525</td>\n",
       "      <td>0.376388</td>\n",
       "      <td>0.206307</td>\n",
       "      <td>0.0</td>\n",
       "    </tr>\n",
       "    <tr>\n",
       "      <th>...</th>\n",
       "      <td>...</td>\n",
       "      <td>...</td>\n",
       "      <td>...</td>\n",
       "      <td>...</td>\n",
       "      <td>...</td>\n",
       "      <td>...</td>\n",
       "      <td>...</td>\n",
       "      <td>...</td>\n",
       "      <td>...</td>\n",
       "      <td>...</td>\n",
       "      <td>...</td>\n",
       "      <td>...</td>\n",
       "      <td>...</td>\n",
       "      <td>...</td>\n",
       "      <td>...</td>\n",
       "      <td>...</td>\n",
       "      <td>...</td>\n",
       "      <td>...</td>\n",
       "      <td>...</td>\n",
       "      <td>...</td>\n",
       "      <td>...</td>\n",
       "    </tr>\n",
       "    <tr>\n",
       "      <th>TCGA.MM.A563.01</th>\n",
       "      <td>0.000000</td>\n",
       "      <td>0.151756</td>\n",
       "      <td>0.211985</td>\n",
       "      <td>0.751982</td>\n",
       "      <td>0.179721</td>\n",
       "      <td>0.0</td>\n",
       "      <td>0.476585</td>\n",
       "      <td>0.348136</td>\n",
       "      <td>0.0</td>\n",
       "      <td>0.0</td>\n",
       "      <td>...</td>\n",
       "      <td>0.0</td>\n",
       "      <td>0.117081</td>\n",
       "      <td>0.000000</td>\n",
       "      <td>0.000000</td>\n",
       "      <td>0.007355</td>\n",
       "      <td>0.194711</td>\n",
       "      <td>0.173968</td>\n",
       "      <td>0.410104</td>\n",
       "      <td>0.214707</td>\n",
       "      <td>0.0</td>\n",
       "    </tr>\n",
       "    <tr>\n",
       "      <th>TCGA.MM.A564.01</th>\n",
       "      <td>0.000000</td>\n",
       "      <td>0.513650</td>\n",
       "      <td>0.181737</td>\n",
       "      <td>0.693815</td>\n",
       "      <td>0.182408</td>\n",
       "      <td>0.0</td>\n",
       "      <td>1.000000</td>\n",
       "      <td>0.000000</td>\n",
       "      <td>0.0</td>\n",
       "      <td>0.0</td>\n",
       "      <td>...</td>\n",
       "      <td>0.0</td>\n",
       "      <td>0.164168</td>\n",
       "      <td>0.000000</td>\n",
       "      <td>0.000000</td>\n",
       "      <td>0.120314</td>\n",
       "      <td>0.038609</td>\n",
       "      <td>0.267221</td>\n",
       "      <td>0.141908</td>\n",
       "      <td>0.346611</td>\n",
       "      <td>0.0</td>\n",
       "    </tr>\n",
       "    <tr>\n",
       "      <th>TCGA.MM.A84U.01</th>\n",
       "      <td>0.000000</td>\n",
       "      <td>0.081098</td>\n",
       "      <td>0.521281</td>\n",
       "      <td>0.436384</td>\n",
       "      <td>0.502167</td>\n",
       "      <td>0.0</td>\n",
       "      <td>0.256466</td>\n",
       "      <td>0.260219</td>\n",
       "      <td>0.0</td>\n",
       "      <td>0.0</td>\n",
       "      <td>...</td>\n",
       "      <td>0.0</td>\n",
       "      <td>0.121544</td>\n",
       "      <td>0.000000</td>\n",
       "      <td>0.059653</td>\n",
       "      <td>0.229817</td>\n",
       "      <td>0.379460</td>\n",
       "      <td>0.315148</td>\n",
       "      <td>0.230442</td>\n",
       "      <td>0.140288</td>\n",
       "      <td>0.0</td>\n",
       "    </tr>\n",
       "    <tr>\n",
       "      <th>TCGA.MW.A4EC.01</th>\n",
       "      <td>0.000000</td>\n",
       "      <td>0.375554</td>\n",
       "      <td>0.510695</td>\n",
       "      <td>0.765933</td>\n",
       "      <td>0.143492</td>\n",
       "      <td>0.0</td>\n",
       "      <td>0.198390</td>\n",
       "      <td>0.094684</td>\n",
       "      <td>0.0</td>\n",
       "      <td>0.0</td>\n",
       "      <td>...</td>\n",
       "      <td>0.0</td>\n",
       "      <td>0.121959</td>\n",
       "      <td>0.000000</td>\n",
       "      <td>0.000000</td>\n",
       "      <td>0.048753</td>\n",
       "      <td>0.093869</td>\n",
       "      <td>0.412435</td>\n",
       "      <td>0.268366</td>\n",
       "      <td>0.388179</td>\n",
       "      <td>0.0</td>\n",
       "    </tr>\n",
       "    <tr>\n",
       "      <th>TCGA.T7.A92I.01</th>\n",
       "      <td>0.000000</td>\n",
       "      <td>0.115097</td>\n",
       "      <td>0.585789</td>\n",
       "      <td>0.515921</td>\n",
       "      <td>0.413205</td>\n",
       "      <td>0.0</td>\n",
       "      <td>0.102522</td>\n",
       "      <td>0.345411</td>\n",
       "      <td>0.0</td>\n",
       "      <td>0.0</td>\n",
       "      <td>...</td>\n",
       "      <td>0.0</td>\n",
       "      <td>0.065682</td>\n",
       "      <td>0.000000</td>\n",
       "      <td>0.143271</td>\n",
       "      <td>0.012836</td>\n",
       "      <td>0.054064</td>\n",
       "      <td>0.680626</td>\n",
       "      <td>0.428044</td>\n",
       "      <td>0.475212</td>\n",
       "      <td>0.0</td>\n",
       "    </tr>\n",
       "  </tbody>\n",
       "</table>\n",
       "<p>206 rows × 26578 columns</p>\n",
       "</div>"
      ],
      "text/plain": [
       "                 ?|100130426  ?|100133144  ?|100134869   ?|10357   ?|10431  \\\n",
       "PatientID                                                                    \n",
       "TCGA.3Z.A93Z.01     0.000000     0.088793     0.698026  0.542431  0.134410   \n",
       "TCGA.6D.AA2E.01     0.000000     0.073478     0.146516  0.339992  0.532552   \n",
       "TCGA.A3.3358.01     0.460681     0.196114     0.066601  0.438346  0.148429   \n",
       "TCGA.A3.3387.01     0.000000     0.249034     0.207864  0.451981  0.229085   \n",
       "TCGA.A3.A6NI.01     0.522665     0.168077     0.801170  0.369960  0.211527   \n",
       "...                      ...          ...          ...       ...       ...   \n",
       "TCGA.MM.A563.01     0.000000     0.151756     0.211985  0.751982  0.179721   \n",
       "TCGA.MM.A564.01     0.000000     0.513650     0.181737  0.693815  0.182408   \n",
       "TCGA.MM.A84U.01     0.000000     0.081098     0.521281  0.436384  0.502167   \n",
       "TCGA.MW.A4EC.01     0.000000     0.375554     0.510695  0.765933  0.143492   \n",
       "TCGA.T7.A92I.01     0.000000     0.115097     0.585789  0.515921  0.413205   \n",
       "\n",
       "                 ?|136542  ?|155060   ?|26823  ?|280660  ?|317712  ...  \\\n",
       "PatientID                                                          ...   \n",
       "TCGA.3Z.A93Z.01       0.0  0.097328  0.000000       0.0       0.0  ...   \n",
       "TCGA.6D.AA2E.01       0.0  0.132135  0.249249       0.0       0.0  ...   \n",
       "TCGA.A3.3358.01       0.0  0.093260  0.073461       0.0       0.0  ...   \n",
       "TCGA.A3.3387.01       0.0  0.209945  0.676574       0.0       0.0  ...   \n",
       "TCGA.A3.A6NI.01       0.0  0.166329  0.166690       0.0       0.0  ...   \n",
       "...                   ...       ...       ...       ...       ...  ...   \n",
       "TCGA.MM.A563.01       0.0  0.476585  0.348136       0.0       0.0  ...   \n",
       "TCGA.MM.A564.01       0.0  1.000000  0.000000       0.0       0.0  ...   \n",
       "TCGA.MM.A84U.01       0.0  0.256466  0.260219       0.0       0.0  ...   \n",
       "TCGA.MW.A4EC.01       0.0  0.198390  0.094684       0.0       0.0  ...   \n",
       "TCGA.T7.A92I.01       0.0  0.102522  0.345411       0.0       0.0  ...   \n",
       "\n",
       "                 hsa-mir-941-4  hsa-mir-942  hsa-mir-943  hsa-mir-944  \\\n",
       "PatientID                                                               \n",
       "TCGA.3Z.A93Z.01            0.0     0.084454     0.000000     0.051812   \n",
       "TCGA.6D.AA2E.01            0.0     0.189679     0.000000     0.286439   \n",
       "TCGA.A3.3358.01            0.0     0.126056     0.000000     0.371204   \n",
       "TCGA.A3.3387.01            0.0     0.078922     0.000000     0.077469   \n",
       "TCGA.A3.A6NI.01            0.0     0.082503     0.158199     0.000000   \n",
       "...                        ...          ...          ...          ...   \n",
       "TCGA.MM.A563.01            0.0     0.117081     0.000000     0.000000   \n",
       "TCGA.MM.A564.01            0.0     0.164168     0.000000     0.000000   \n",
       "TCGA.MM.A84U.01            0.0     0.121544     0.000000     0.059653   \n",
       "TCGA.MW.A4EC.01            0.0     0.121959     0.000000     0.000000   \n",
       "TCGA.T7.A92I.01            0.0     0.065682     0.000000     0.143271   \n",
       "\n",
       "                 hsa-mir-95  hsa-mir-96  hsa-mir-98  hsa-mir-99a  hsa-mir-99b  \\\n",
       "PatientID                                                                       \n",
       "TCGA.3Z.A93Z.01    0.074273    0.064241    0.225102     0.445995     0.278258   \n",
       "TCGA.6D.AA2E.01    0.162535    0.015441    0.210389     0.521716     0.284126   \n",
       "TCGA.A3.3358.01    0.099774    0.040022    0.326750     0.333967     0.463249   \n",
       "TCGA.A3.3387.01    0.138816    0.133638    0.187480     0.280792     0.388375   \n",
       "TCGA.A3.A6NI.01    0.058953    0.081857    0.129525     0.376388     0.206307   \n",
       "...                     ...         ...         ...          ...          ...   \n",
       "TCGA.MM.A563.01    0.007355    0.194711    0.173968     0.410104     0.214707   \n",
       "TCGA.MM.A564.01    0.120314    0.038609    0.267221     0.141908     0.346611   \n",
       "TCGA.MM.A84U.01    0.229817    0.379460    0.315148     0.230442     0.140288   \n",
       "TCGA.MW.A4EC.01    0.048753    0.093869    0.412435     0.268366     0.388179   \n",
       "TCGA.T7.A92I.01    0.012836    0.054064    0.680626     0.428044     0.475212   \n",
       "\n",
       "                 Death  \n",
       "PatientID               \n",
       "TCGA.3Z.A93Z.01    0.0  \n",
       "TCGA.6D.AA2E.01    0.0  \n",
       "TCGA.A3.3358.01    0.0  \n",
       "TCGA.A3.3387.01    0.0  \n",
       "TCGA.A3.A6NI.01    0.0  \n",
       "...                ...  \n",
       "TCGA.MM.A563.01    0.0  \n",
       "TCGA.MM.A564.01    0.0  \n",
       "TCGA.MM.A84U.01    0.0  \n",
       "TCGA.MW.A4EC.01    0.0  \n",
       "TCGA.T7.A92I.01    0.0  \n",
       "\n",
       "[206 rows x 26578 columns]"
      ]
     },
     "execution_count": 106,
     "metadata": {},
     "output_type": "execute_result"
    }
   ],
   "source": [
    "concDf = concatenation(genesN,methylationN,mirnaN)\n",
    "concDf"
   ]
  },
  {
   "cell_type": "code",
   "execution_count": 107,
   "metadata": {},
   "outputs": [
    {
     "data": {
      "text/plain": [
       "146"
      ]
     },
     "execution_count": 107,
     "metadata": {},
     "output_type": "execute_result"
    }
   ],
   "source": [
    "concDf['Death'].value_counts()[0.0]"
   ]
  },
  {
   "cell_type": "code",
   "execution_count": 108,
   "metadata": {},
   "outputs": [
    {
     "data": {
      "text/plain": [
       "60"
      ]
     },
     "execution_count": 108,
     "metadata": {},
     "output_type": "execute_result"
    }
   ],
   "source": [
    "concDf['Death'].value_counts()[1.0]"
   ]
  },
  {
   "cell_type": "markdown",
   "metadata": {},
   "source": [
    "Γινεται σπλιτ σε τρειν & τεστ και εκπαιδευονται τα μοντελα\n",
    "Εμφανιζει τους πινακες συγχυσης"
   ]
  },
  {
   "cell_type": "markdown",
   "metadata": {},
   "source": [
    "##### Gene Expression"
   ]
  },
  {
   "cell_type": "code",
   "execution_count": 109,
   "metadata": {},
   "outputs": [
    {
     "name": "stdout",
     "output_type": "stream",
     "text": [
      "SVM Accuracy: 0.6935483870967742\n",
      "DecisionTree Accuracy: 0.5967741935483871\n"
     ]
    },
    {
     "data": {
      "image/png": "[encoded data removed]",
      "text/plain": [
       "<Figure size 432x288 with 2 Axes>"
      ]
     },
     "metadata": {
      "needs_background": "light"
     },
     "output_type": "display_data"
    },
    {
     "data": {
      "image/png": "[encoded data removed]",
      "text/plain": [
       "<Figure size 432x288 with 2 Axes>"
      ]
     },
     "metadata": {
      "needs_background": "light"
     },
     "output_type": "display_data"
    }
   ],
   "source": [
    "applyModels(genesN)"
   ]
  },
  {
   "cell_type": "markdown",
   "metadata": {},
   "source": [
    "#####  DNA Methylation"
   ]
  },
  {
   "cell_type": "code",
   "execution_count": 110,
   "metadata": {},
   "outputs": [
    {
     "name": "stdout",
     "output_type": "stream",
     "text": [
      "SVM Accuracy: 0.7258064516129032\n",
      "DecisionTree Accuracy: 0.7096774193548387\n"
     ]
    },
    {
     "data": {
      "image/png": "[encoded data removed]",
      "text/plain": [
       "<Figure size 432x288 with 2 Axes>"
      ]
     },
     "metadata": {
      "needs_background": "light"
     },
     "output_type": "display_data"
    },
    {
     "data": {
      "image/png": "[encoded data removed]",
      "text/plain": [
       "<Figure size 432x288 with 2 Axes>"
      ]
     },
     "metadata": {
      "needs_background": "light"
     },
     "output_type": "display_data"
    }
   ],
   "source": [
    "applyModels(methylationN)"
   ]
  },
  {
   "cell_type": "markdown",
   "metadata": {},
   "source": [
    "##### miRNA"
   ]
  },
  {
   "cell_type": "code",
   "execution_count": 111,
   "metadata": {},
   "outputs": [
    {
     "name": "stdout",
     "output_type": "stream",
     "text": [
      "SVM Accuracy: 0.6612903225806451\n",
      "DecisionTree Accuracy: 0.6129032258064516\n"
     ]
    },
    {
     "data": {
      "image/png": "[encoded data removed]",
      "text/plain": [
       "<Figure size 432x288 with 2 Axes>"
      ]
     },
     "metadata": {
      "needs_background": "light"
     },
     "output_type": "display_data"
    },
    {
     "data": {
      "image/png": "[encoded data removed]",
      "text/plain": [
       "<Figure size 432x288 with 2 Axes>"
      ]
     },
     "metadata": {
      "needs_background": "light"
     },
     "output_type": "display_data"
    }
   ],
   "source": [
    "applyModels(mirnaN)"
   ]
  },
  {
   "cell_type": "markdown",
   "metadata": {},
   "source": [
    "##### Concatenated SET"
   ]
  },
  {
   "cell_type": "code",
   "execution_count": 112,
   "metadata": {},
   "outputs": [
    {
     "name": "stdout",
     "output_type": "stream",
     "text": [
      "SVM Accuracy: 0.7419354838709677\n",
      "DecisionTree Accuracy: 0.5967741935483871\n"
     ]
    },
    {
     "data": {
      "image/png": "[encoded data removed]",
      "text/plain": [
       "<Figure size 432x288 with 2 Axes>"
      ]
     },
     "metadata": {
      "needs_background": "light"
     },
     "output_type": "display_data"
    },
    {
     "data": {
      "image/png": "[encoded data removed]",
      "text/plain": [
       "<Figure size 432x288 with 2 Axes>"
      ]
     },
     "metadata": {
      "needs_background": "light"
     },
     "output_type": "display_data"
    }
   ],
   "source": [
    "applyModels(concDf)"
   ]
  },
  {
   "cell_type": "markdown",
   "metadata": {},
   "source": [
    "## Feature Selection in every set"
   ]
  },
  {
   "cell_type": "markdown",
   "metadata": {},
   "source": [
    "Παίρνει τα normalized sets και κανει feature selection"
   ]
  },
  {
   "cell_type": "code",
   "execution_count": 113,
   "metadata": {
    "collapsed": true
   },
   "outputs": [
    {
     "name": "stderr",
     "output_type": "stream",
     "text": [
      "C:\\Users\\nikos\\Anaconda3\\lib\\site-packages\\sklearn\\feature_selection\\_univariate_selection.py:115: UserWarning: Features [    5     9    17    23  1392  1581  1749  1765  1844  1888  2320  2342\n",
      "  2789  3527  4282  4318  4333  4370  4371  4373  4374  4375  4376  4510\n",
      "  4639  4808  4809  4811  4814  4816  4817  4818  4822  4824  4829  4831\n",
      "  4835  4836  5288  6051  6191  6697  6699  7230  7262  7510  7661  7662\n",
      "  7663  7664  7665  7870  8121  8203  9287  9290  9294  9296  9301  9304\n",
      "  9306  9307  9309  9313  9314  9315  9316  9317  9318  9320  9321  9323\n",
      "  9325  9334  9335  9350  9351  9352  9355  9357  9452  9453  9470  9523\n",
      "  9744  9865  9915 10121 10139 10668 11130 11223 11790 11801 11958 12360\n",
      " 12388 12392 12410 12411 12414 12439 12457 12478 12479 12482 12483 12510\n",
      " 12511 12515 12516 12518 12521 12522 12539 12553 12554 12556 12559 12619\n",
      " 12628 12629 12630 12639 12656 12657 12672 12676 12691 12716 12718 12720\n",
      " 12723 12726 12730 12732 12734 12825 13520 13777 13803 13810 13991 14158\n",
      " 14159 14160 14161 14755 14918 15138 15140 15141 15446 15563 15585 16566\n",
      " 16568 16569 16571 16574 16576 16578 16579 16580 16604 16630 16634 16636\n",
      " 16637 16674 16676 16677 16697 16698 16699 16700 16701 16702 16704 16705\n",
      " 16706 16707 16708 16709 16710 16711 16712 16713 16714 16715 16716 16717\n",
      " 16718 16719 16720 16721 16722 16723 16724 16725 16726 16727 16728 16729\n",
      " 16730 16731 16732 16733 16734 16735 16736 16737 16738 16739 16740 16741\n",
      " 16742 16743 16744 16745 16746 16748 16749 16750 16751 16752 16753 16754\n",
      " 16756 16757 16758 16759 16760 16761 16762 16763 16764 16765 16766 16767\n",
      " 16768 16769 16770 16771 16772 16774 16775 16776 16777 16778 16779 16780\n",
      " 16781 16782 16783 16784 16785 16787 16788 16789 16790 16791 16792 16794\n",
      " 16795 16796 16798 16799 16800 16801 16802 16803 16804 16805 16806 16807\n",
      " 16808 16809 16810 16811 16812 16813 16816 16818 16819 16820 16821 16822\n",
      " 16823 16824 16826 16827 16829 16830 16831 16832 16833 16834 16835 16836\n",
      " 16837 16838 16839 16840 16841 16842 16843 16844 16845 16846 16847 16848\n",
      " 16849 16850 16851 16852 16853 16854 16855 16856 16857 16858 16859 16860\n",
      " 16861 16862 16863 16864 16865 16866 16867 16868 16869 16870 16871 16872\n",
      " 16873 16874 16875 16876 16877 16878 16879 16880 16881 16882 16883 16884\n",
      " 16885 16886 16888 16889 16890 16891 16892 16893 16894 16895 16896 16897\n",
      " 16898 16899 16900 16901 16902 16903 16904 16905 16906 16907 16908 16909\n",
      " 16910 16911 16913 16914 16915 16916 16917 16918 16920 16921 16922 16924\n",
      " 16925 16926 17144 17496 17595 17899 18466 18696 18829 18902 18903 18904\n",
      " 18908 18909 18910 18911 18914 18915 18916 18918 18922 18923 18924 18992\n",
      " 19450 19451 19452 19582 19671] are constant.\n",
      "  UserWarning)\n",
      "C:\\Users\\nikos\\Anaconda3\\lib\\site-packages\\sklearn\\feature_selection\\_univariate_selection.py:116: RuntimeWarning: invalid value encountered in true_divide\n",
      "  f = msb / msw\n",
      "C:\\Users\\nikos\\Anaconda3\\lib\\site-packages\\sklearn\\feature_selection\\_univariate_selection.py:115: UserWarning: Features [  17   19   32   33   34   35   41   43   44   45   46   47   56   57\n",
      "   66   67   68   70   77   80   81   91   95   98  104  105  107  108\n",
      "  114  117  119  129  139  141  143  144  145  146  148  149  150  151\n",
      "  152  153  162  165  188  189  190  249  250  266  267  268  270  314\n",
      "  315  317  324  329  331  332  346  347  348  349  350  351  352  356\n",
      "  357  369  377  382  392  400  409  421  423  425  429  430  441  448\n",
      "  452  462  499  506  517  524  525  527  528  529  530  531  533  534\n",
      "  543  557  558  578  579  580  582  589  607  623  627  628  629  631\n",
      "  632  633  636  637  638  639  640  641  642  643  644  645  646  647\n",
      "  648  649  650  651  652  654  656  657  658  659  660  662  664  665\n",
      "  666  668  669  670  671  672  673  674  675  676  677  678  679  680\n",
      "  681  682  683  685  686  687  689  690  691  692  693  696  697  698\n",
      "  699  701  702  704  705  706  708  709  710  712  713  741  782  800\n",
      "  805  817  818  820  821  823  828  829  830  831  832  834  835  836\n",
      "  837  838  839  840  844  847  854  866  869  870  873  874  876  877\n",
      "  878  879  881  885  893  903  904  917  922  923  928  929  932  935\n",
      "  940  942  943  946  947  949  954  956  957  958  959  960  971  986\n",
      "  987  991  993  994  995 1019 1020 1022 1030 1035 1037] are constant.\n",
      "  UserWarning)\n",
      "C:\\Users\\nikos\\Anaconda3\\lib\\site-packages\\sklearn\\feature_selection\\_univariate_selection.py:116: RuntimeWarning: invalid value encountered in true_divide\n",
      "  f = msb / msw\n"
     ]
    }
   ],
   "source": [
    "genesFS = featureSelection(genesN)\n",
    "mirnaFS = featureSelection(mirnaN)\n",
    "methylationFS = featureSelection(methylationN)\n",
    "concDfFS = concatenation(genesFS,methylationFS,mirnaFS)"
   ]
  },
  {
   "cell_type": "markdown",
   "metadata": {},
   "source": [
    "Ξανα γίνεται εφαρμογή των μοντέλων στα νέα sets"
   ]
  },
  {
   "cell_type": "markdown",
   "metadata": {},
   "source": [
    "###### Genes"
   ]
  },
  {
   "cell_type": "code",
   "execution_count": 114,
   "metadata": {},
   "outputs": [
    {
     "name": "stdout",
     "output_type": "stream",
     "text": [
      "SVM Accuracy: 0.7903225806451613\n",
      "DecisionTree Accuracy: 0.7258064516129032\n"
     ]
    },
    {
     "data": {
      "image/png": "[encoded data removed]",
      "text/plain": [
       "<Figure size 432x288 with 2 Axes>"
      ]
     },
     "metadata": {
      "needs_background": "light"
     },
     "output_type": "display_data"
    },
    {
     "data": {
      "image/png": "[encoded data removed]",
      "text/plain": [
       "<Figure size 432x288 with 2 Axes>"
      ]
     },
     "metadata": {
      "needs_background": "light"
     },
     "output_type": "display_data"
    }
   ],
   "source": [
    "applyModels(genesFS)"
   ]
  },
  {
   "cell_type": "markdown",
   "metadata": {},
   "source": [
    "##### DNA Methylation"
   ]
  },
  {
   "cell_type": "code",
   "execution_count": 115,
   "metadata": {},
   "outputs": [
    {
     "name": "stdout",
     "output_type": "stream",
     "text": [
      "SVM Accuracy: 0.8225806451612904\n",
      "DecisionTree Accuracy: 0.6129032258064516\n"
     ]
    },
    {
     "data": {
      "image/png": "[encoded data removed]",
      "text/plain": [
       "<Figure size 432x288 with 2 Axes>"
      ]
     },
     "metadata": {
      "needs_background": "light"
     },
     "output_type": "display_data"
    },
    {
     "data": {
      "image/png": "[encoded data removed]",
      "text/plain": [
       "<Figure size 432x288 with 2 Axes>"
      ]
     },
     "metadata": {
      "needs_background": "light"
     },
     "output_type": "display_data"
    }
   ],
   "source": [
    "applyModels(methylationFS)"
   ]
  },
  {
   "cell_type": "markdown",
   "metadata": {},
   "source": [
    "##### miRNA"
   ]
  },
  {
   "cell_type": "code",
   "execution_count": 116,
   "metadata": {
    "scrolled": false
   },
   "outputs": [
    {
     "name": "stdout",
     "output_type": "stream",
     "text": [
      "SVM Accuracy: 0.8548387096774194\n",
      "DecisionTree Accuracy: 0.6612903225806451\n"
     ]
    },
    {
     "data": {
      "image/png": "[encoded data removed]",
      "text/plain": [
       "<Figure size 432x288 with 2 Axes>"
      ]
     },
     "metadata": {
      "needs_background": "light"
     },
     "output_type": "display_data"
    },
    {
     "data": {
      "image/png": "[encoded data removed]",
      "text/plain": [
       "<Figure size 432x288 with 2 Axes>"
      ]
     },
     "metadata": {
      "needs_background": "light"
     },
     "output_type": "display_data"
    }
   ],
   "source": [
    "applyModels(mirnaFS)"
   ]
  },
  {
   "cell_type": "markdown",
   "metadata": {},
   "source": [
    "##### concatenated"
   ]
  },
  {
   "cell_type": "code",
   "execution_count": 117,
   "metadata": {},
   "outputs": [
    {
     "name": "stdout",
     "output_type": "stream",
     "text": [
      "SVM Accuracy: 0.8225806451612904\n",
      "DecisionTree Accuracy: 0.7258064516129032\n"
     ]
    },
    {
     "data": {
      "image/png": "[encoded data removed]",
      "text/plain": [
       "<Figure size 432x288 with 2 Axes>"
      ]
     },
     "metadata": {
      "needs_background": "light"
     },
     "output_type": "display_data"
    },
    {
     "data": {
      "image/png": "[encoded data removed]",
      "text/plain": [
       "<Figure size 432x288 with 2 Axes>"
      ]
     },
     "metadata": {
      "needs_background": "light"
     },
     "output_type": "display_data"
    }
   ],
   "source": [
    "applyModels(concDfFS)"
   ]
  },
  {
   "cell_type": "code",
   "execution_count": 72,
   "metadata": {},
   "outputs": [
    {
     "data": {
      "text/html": [
       "<div>\n",
       "<style scoped>\n",
       "    .dataframe tbody tr th:only-of-type {\n",
       "        vertical-align: middle;\n",
       "    }\n",
       "\n",
       "    .dataframe tbody tr th {\n",
       "        vertical-align: top;\n",
       "    }\n",
       "\n",
       "    .dataframe thead th {\n",
       "        text-align: right;\n",
       "    }\n",
       "</style>\n",
       "<table border=\"1\" class=\"dataframe\">\n",
       "  <thead>\n",
       "    <tr style=\"text-align: right;\">\n",
       "      <th></th>\n",
       "      <th>TIGD1|200765</th>\n",
       "      <th>LOC100272217|100272217</th>\n",
       "      <th>LOC100303728|100303728</th>\n",
       "      <th>LOC284900|284900</th>\n",
       "      <th>FLJ45244|400242</th>\n",
       "      <th>ENO3|2027</th>\n",
       "      <th>TAS2R20|259295</th>\n",
       "      <th>TCTE3|6991</th>\n",
       "      <th>LOC100216545|100216545</th>\n",
       "      <th>C9orf37|85026</th>\n",
       "      <th>Death</th>\n",
       "    </tr>\n",
       "    <tr>\n",
       "      <th>PatientID</th>\n",
       "      <th></th>\n",
       "      <th></th>\n",
       "      <th></th>\n",
       "      <th></th>\n",
       "      <th></th>\n",
       "      <th></th>\n",
       "      <th></th>\n",
       "      <th></th>\n",
       "      <th></th>\n",
       "      <th></th>\n",
       "      <th></th>\n",
       "    </tr>\n",
       "  </thead>\n",
       "  <tbody>\n",
       "    <tr>\n",
       "      <th>TCGA.A6.2675.01</th>\n",
       "      <td>0.074128</td>\n",
       "      <td>0.103261</td>\n",
       "      <td>0.244942</td>\n",
       "      <td>0.232943</td>\n",
       "      <td>0.067630</td>\n",
       "      <td>0.128315</td>\n",
       "      <td>0.183635</td>\n",
       "      <td>0.266856</td>\n",
       "      <td>0.130113</td>\n",
       "      <td>0.147646</td>\n",
       "      <td>0.0</td>\n",
       "    </tr>\n",
       "    <tr>\n",
       "      <th>TCGA.A6.4105.01</th>\n",
       "      <td>0.283112</td>\n",
       "      <td>0.167864</td>\n",
       "      <td>0.172389</td>\n",
       "      <td>0.220351</td>\n",
       "      <td>0.080290</td>\n",
       "      <td>0.300206</td>\n",
       "      <td>0.308017</td>\n",
       "      <td>0.244303</td>\n",
       "      <td>0.254295</td>\n",
       "      <td>0.236198</td>\n",
       "      <td>1.0</td>\n",
       "    </tr>\n",
       "    <tr>\n",
       "      <th>TCGA.A6.5656.01</th>\n",
       "      <td>0.444310</td>\n",
       "      <td>0.300087</td>\n",
       "      <td>0.590215</td>\n",
       "      <td>0.769824</td>\n",
       "      <td>0.462405</td>\n",
       "      <td>0.289041</td>\n",
       "      <td>0.402086</td>\n",
       "      <td>0.753502</td>\n",
       "      <td>0.744645</td>\n",
       "      <td>0.402004</td>\n",
       "      <td>0.0</td>\n",
       "    </tr>\n",
       "    <tr>\n",
       "      <th>TCGA.A6.5657.01</th>\n",
       "      <td>0.060274</td>\n",
       "      <td>0.087970</td>\n",
       "      <td>0.193237</td>\n",
       "      <td>0.572930</td>\n",
       "      <td>0.135129</td>\n",
       "      <td>0.071367</td>\n",
       "      <td>0.162497</td>\n",
       "      <td>0.103759</td>\n",
       "      <td>0.056016</td>\n",
       "      <td>0.235197</td>\n",
       "      <td>0.0</td>\n",
       "    </tr>\n",
       "    <tr>\n",
       "      <th>TCGA.A6.5659.01</th>\n",
       "      <td>0.265357</td>\n",
       "      <td>0.140716</td>\n",
       "      <td>0.308579</td>\n",
       "      <td>0.399599</td>\n",
       "      <td>0.131572</td>\n",
       "      <td>0.050823</td>\n",
       "      <td>0.124956</td>\n",
       "      <td>0.240678</td>\n",
       "      <td>0.305808</td>\n",
       "      <td>0.124243</td>\n",
       "      <td>0.0</td>\n",
       "    </tr>\n",
       "    <tr>\n",
       "      <th>...</th>\n",
       "      <td>...</td>\n",
       "      <td>...</td>\n",
       "      <td>...</td>\n",
       "      <td>...</td>\n",
       "      <td>...</td>\n",
       "      <td>...</td>\n",
       "      <td>...</td>\n",
       "      <td>...</td>\n",
       "      <td>...</td>\n",
       "      <td>...</td>\n",
       "      <td>...</td>\n",
       "    </tr>\n",
       "    <tr>\n",
       "      <th>TCGA.G4.6588.01</th>\n",
       "      <td>0.125012</td>\n",
       "      <td>0.129352</td>\n",
       "      <td>0.110641</td>\n",
       "      <td>0.306104</td>\n",
       "      <td>0.046645</td>\n",
       "      <td>0.169346</td>\n",
       "      <td>0.309092</td>\n",
       "      <td>0.172741</td>\n",
       "      <td>0.092111</td>\n",
       "      <td>0.101044</td>\n",
       "      <td>0.0</td>\n",
       "    </tr>\n",
       "    <tr>\n",
       "      <th>TCGA.G4.6625.01</th>\n",
       "      <td>0.190213</td>\n",
       "      <td>0.192075</td>\n",
       "      <td>0.372709</td>\n",
       "      <td>0.382876</td>\n",
       "      <td>0.129718</td>\n",
       "      <td>0.336707</td>\n",
       "      <td>0.444505</td>\n",
       "      <td>0.330011</td>\n",
       "      <td>0.418035</td>\n",
       "      <td>0.503982</td>\n",
       "      <td>0.0</td>\n",
       "    </tr>\n",
       "    <tr>\n",
       "      <th>TCGA.G4.6626.01</th>\n",
       "      <td>0.494507</td>\n",
       "      <td>0.165310</td>\n",
       "      <td>0.190183</td>\n",
       "      <td>0.267300</td>\n",
       "      <td>0.214970</td>\n",
       "      <td>0.350860</td>\n",
       "      <td>0.313818</td>\n",
       "      <td>0.410845</td>\n",
       "      <td>0.709758</td>\n",
       "      <td>0.512597</td>\n",
       "      <td>1.0</td>\n",
       "    </tr>\n",
       "    <tr>\n",
       "      <th>TCGA.G4.6627.01</th>\n",
       "      <td>0.111392</td>\n",
       "      <td>0.054662</td>\n",
       "      <td>0.149498</td>\n",
       "      <td>0.293865</td>\n",
       "      <td>0.105209</td>\n",
       "      <td>0.128401</td>\n",
       "      <td>0.101640</td>\n",
       "      <td>0.102219</td>\n",
       "      <td>0.160264</td>\n",
       "      <td>0.163655</td>\n",
       "      <td>0.0</td>\n",
       "    </tr>\n",
       "    <tr>\n",
       "      <th>TCGA.G4.6628.01</th>\n",
       "      <td>0.174340</td>\n",
       "      <td>0.111376</td>\n",
       "      <td>0.270948</td>\n",
       "      <td>0.228854</td>\n",
       "      <td>0.104364</td>\n",
       "      <td>0.091999</td>\n",
       "      <td>0.186358</td>\n",
       "      <td>0.117739</td>\n",
       "      <td>0.021157</td>\n",
       "      <td>0.138669</td>\n",
       "      <td>0.0</td>\n",
       "    </tr>\n",
       "  </tbody>\n",
       "</table>\n",
       "<p>214 rows × 11 columns</p>\n",
       "</div>"
      ],
      "text/plain": [
       "                 TIGD1|200765  LOC100272217|100272217  LOC100303728|100303728  \\\n",
       "PatientID                                                                       \n",
       "TCGA.A6.2675.01      0.074128                0.103261                0.244942   \n",
       "TCGA.A6.4105.01      0.283112                0.167864                0.172389   \n",
       "TCGA.A6.5656.01      0.444310                0.300087                0.590215   \n",
       "TCGA.A6.5657.01      0.060274                0.087970                0.193237   \n",
       "TCGA.A6.5659.01      0.265357                0.140716                0.308579   \n",
       "...                       ...                     ...                     ...   \n",
       "TCGA.G4.6588.01      0.125012                0.129352                0.110641   \n",
       "TCGA.G4.6625.01      0.190213                0.192075                0.372709   \n",
       "TCGA.G4.6626.01      0.494507                0.165310                0.190183   \n",
       "TCGA.G4.6627.01      0.111392                0.054662                0.149498   \n",
       "TCGA.G4.6628.01      0.174340                0.111376                0.270948   \n",
       "\n",
       "                 LOC284900|284900  FLJ45244|400242  ENO3|2027  TAS2R20|259295  \\\n",
       "PatientID                                                                       \n",
       "TCGA.A6.2675.01          0.232943         0.067630   0.128315        0.183635   \n",
       "TCGA.A6.4105.01          0.220351         0.080290   0.300206        0.308017   \n",
       "TCGA.A6.5656.01          0.769824         0.462405   0.289041        0.402086   \n",
       "TCGA.A6.5657.01          0.572930         0.135129   0.071367        0.162497   \n",
       "TCGA.A6.5659.01          0.399599         0.131572   0.050823        0.124956   \n",
       "...                           ...              ...        ...             ...   \n",
       "TCGA.G4.6588.01          0.306104         0.046645   0.169346        0.309092   \n",
       "TCGA.G4.6625.01          0.382876         0.129718   0.336707        0.444505   \n",
       "TCGA.G4.6626.01          0.267300         0.214970   0.350860        0.313818   \n",
       "TCGA.G4.6627.01          0.293865         0.105209   0.128401        0.101640   \n",
       "TCGA.G4.6628.01          0.228854         0.104364   0.091999        0.186358   \n",
       "\n",
       "                 TCTE3|6991  LOC100216545|100216545  C9orf37|85026  Death  \n",
       "PatientID                                                                  \n",
       "TCGA.A6.2675.01    0.266856                0.130113       0.147646    0.0  \n",
       "TCGA.A6.4105.01    0.244303                0.254295       0.236198    1.0  \n",
       "TCGA.A6.5656.01    0.753502                0.744645       0.402004    0.0  \n",
       "TCGA.A6.5657.01    0.103759                0.056016       0.235197    0.0  \n",
       "TCGA.A6.5659.01    0.240678                0.305808       0.124243    0.0  \n",
       "...                     ...                     ...            ...    ...  \n",
       "TCGA.G4.6588.01    0.172741                0.092111       0.101044    0.0  \n",
       "TCGA.G4.6625.01    0.330011                0.418035       0.503982    0.0  \n",
       "TCGA.G4.6626.01    0.410845                0.709758       0.512597    1.0  \n",
       "TCGA.G4.6627.01    0.102219                0.160264       0.163655    0.0  \n",
       "TCGA.G4.6628.01    0.117739                0.021157       0.138669    0.0  \n",
       "\n",
       "[214 rows x 11 columns]"
      ]
     },
     "execution_count": 72,
     "metadata": {},
     "output_type": "execute_result"
    }
   ],
   "source": [
    "genesFS"
   ]
  },
  {
   "cell_type": "code",
   "execution_count": null,
   "metadata": {},
   "outputs": [],
   "source": []
  },
  {
   "cell_type": "markdown",
   "metadata": {},
   "source": [
    "SMOTE"
   ]
  },
  {
   "cell_type": "code",
   "execution_count": 118,
   "metadata": {},
   "outputs": [
    {
     "name": "stdout",
     "output_type": "stream",
     "text": [
      "Counter({0.0: 146, 1.0: 146})\n",
      "SVM Accuracy: 0.8295454545454546\n",
      "DecisionTree Accuracy: 0.7613636363636364\n"
     ]
    },
    {
     "data": {
      "image/png": "[encoded data removed]",
      "text/plain": [
       "<Figure size 432x288 with 2 Axes>"
      ]
     },
     "metadata": {
      "needs_background": "light"
     },
     "output_type": "display_data"
    },
    {
     "data": {
      "image/png": "[encoded data removed]",
      "text/plain": [
       "<Figure size 432x288 with 2 Axes>"
      ]
     },
     "metadata": {
      "needs_background": "light"
     },
     "output_type": "display_data"
    }
   ],
   "source": [
    "X,y = smoteAlgorithm(concDf)\n",
    "\n",
    "X_train, X_test, y_train, y_test = train_test_split(X, y, test_size=0.3, random_state=1) #, random_state=1\n",
    "\n",
    "#svmAlgorithm(X_train, X_test, y_train, y_test)\n",
    "#treeAlgorithm(X_train, X_test, y_train, y_test)\n",
    "\n",
    "y_pred,clf = svmAlgorithm(X_train, X_test, y_train, y_test)\n",
    "confusionMatrix(X_test,y_test,y_pred,clf)\n",
    "print(\"SVM Accuracy:\",metrics.accuracy_score(y_test, y_pred))\n",
    "\n",
    "y_pred,clf = treeAlgorithm(X_train, X_test, y_train, y_test)\n",
    "print(\"DecisionTree Accuracy:\",metrics.accuracy_score(y_test, y_pred))\n",
    "confusionMatrix(X_test,y_test,y_pred,clf)"
   ]
  },
  {
   "cell_type": "code",
   "execution_count": null,
   "metadata": {},
   "outputs": [],
   "source": []
  }
 ],
 "metadata": {
  "kernelspec": {
   "display_name": "Python 3",
   "language": "python",
   "name": "python3"
  },
  "language_info": {
   "codemirror_mode": {
    "name": "ipython",
    "version": 3
   },
   "file_extension": ".py",
   "mimetype": "text/x-python",
   "name": "python",
   "nbconvert_exporter": "python",
   "pygments_lexer": "ipython3",
   "version": "3.6.4"
  }
 },
 "nbformat": 4,
 "nbformat_minor": 5
}
